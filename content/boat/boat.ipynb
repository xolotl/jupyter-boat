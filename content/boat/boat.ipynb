{
  "cells": [
    {
      "cell_type": "code",
      "execution_count": 75,
      "metadata": {
        "trusted": true
      },
      "outputs": [],
      "source": [
        "# Import needed python libraries.\n",
        "from IPython.display import HTML\n",
        "from jinja2 import Environment, FileSystemLoader\n",
        "import pandas as pd\n",
        "import os\n",
        "import textwrap\n",
        "import webbrowser"
      ]
    },
    {
      "cell_type": "code",
      "execution_count": 76,
      "metadata": {},
      "outputs": [],
      "source": [
        "# Function to give a default values to title/author where there are none.\n",
        "def default_value(value):\n",
        "    if pd.isnull(value) or value == '':\n",
        "        return \"Unknown\"\n",
        "    else:\n",
        "        return value"
      ]
    },
    {
      "cell_type": "code",
      "execution_count": 77,
      "metadata": {
        "trusted": true
      },
      "outputs": [],
      "source": [
        "# Function to extract year, if possible, from mixed string and date values.\n",
        "def extract_year(date_str):\n",
        "    if pd.isnull(date_str) or date_str == '':\n",
        "        return \"(date unknown)\"\n",
        "    try:\n",
        "        return pd.to_datetime(date_str).year\n",
        "    except:\n",
        "        return date_str"
      ]
    },
    {
      "cell_type": "code",
      "execution_count": 78,
      "metadata": {},
      "outputs": [],
      "source": [
        "# Function to format dates with parentheses or copyright symbol when appropriate.\n",
        "def format_date(row):\n",
        "    if str(row['Date']).isdigit() and row['IP Status'] in ['CC0','PD']:\n",
        "        return f\"({row['Date']})\"\n",
        "    elif str(row['Date']).isdigit() and row['IP Status'] not in ['CC0','PD']:\n",
        "        return f\"&copy; {row['Date']}\"\n",
        "    else:\n",
        "        return row['Date']"
      ]
    },
    {
      "cell_type": "code",
      "execution_count": 79,
      "metadata": {
        "trusted": true
      },
      "outputs": [],
      "source": [
        "# Get IP statements.\n",
        "try:\n",
        "    ipstatements = pd.read_csv('ipstatements.csv')\n",
        "except FileNotFoundError:\n",
        "    print(\"Error: The file 'ipstatements.csv' was not found.\")\n",
        "except pd.errors.EmptyDataError:\n",
        "    print(\"Error: The file 'ipstatements.csv' is empty.\")\n",
        "except Exception as e:\n",
        "    # Catch any other exceptions.\n",
        "    print(f\"An unexpected error occurred: {e}\")"
      ]
    },
    {
      "cell_type": "code",
      "execution_count": 80,
      "metadata": {
        "trusted": true
      },
      "outputs": [],
      "source": [
        "# Get works, joining with IP statements on the \"IP Status\" column.\n",
        "try:\n",
        "    works = pd.merge(pd.read_csv('works.csv', dtype={'Date': str}), ipstatements, on='IP Status', how='inner')\n",
        "except FileNotFoundError:\n",
        "    print(\"Error: The file 'works.csv' was not found.\")\n",
        "except pd.errors.EmptyDataError:\n",
        "    print(\"Error: The file 'works.csv' is empty.\")\n",
        "except Exception as e:\n",
        "    # Catch any other exceptions.\n",
        "    print(f\"An unexpected error occurred: {e}\")"
      ]
    },
    {
      "cell_type": "code",
      "execution_count": 81,
      "metadata": {},
      "outputs": [],
      "source": [
        "# Use function above to add default values to titles/authors where there are none.\n",
        "try:\n",
        "    works['Title'] = works['Title'].apply(default_value)\n",
        "    works['Author'] = works['Author'].apply(default_value)\n",
        "except Exception as e:\n",
        "    print(f\"An error occurred while adding default values to titles/authors: {e}\")"
      ]
    },
    {
      "cell_type": "code",
      "execution_count": 82,
      "metadata": {
        "trusted": true
      },
      "outputs": [],
      "source": [
        "# Use function above to convert dates to just years if possible, or if not, leave as original text.\n",
        "try:\n",
        "    works['Date'] = works['Date'].apply(extract_year)\n",
        "except Exception as e:\n",
        "    print(f\"An error occurred while converting the dates to years: {e}\")"
      ]
    },
    {
      "cell_type": "code",
      "execution_count": 83,
      "metadata": {},
      "outputs": [],
      "source": [
        "# Use function above to format dates.\n",
        "try:\n",
        "    works['Date'] = works.apply(format_date, axis=1)\n",
        "except Exception as e:\n",
        "    print(f\"An error occurred while formatting dates column: {e}\")"
      ]
    },
    {
      "cell_type": "code",
      "execution_count": 84,
      "metadata": {
        "trusted": true
      },
      "outputs": [],
      "source": [
        "# Sort works by Format, Title.\n",
        "try:\n",
        "    works = works.sort_values(by=['Format', 'Title'])\n",
        "except Exception as e:\n",
        "    print(f\"An error occurred while sorting works: {e}\")"
      ]
    },
    {
      "cell_type": "code",
      "execution_count": 85,
      "metadata": {
        "trusted": true
      },
      "outputs": [],
      "source": [
        "# Convert works DataFrame to a dictionary and convert any missing (NaN) values to None so they can be handled by Jinja2.\n",
        "try:\n",
        "    works_dict = works.to_dict(orient='records')\n",
        "    works_dict = [{k: v if pd.notnull(v) else None for k, v in record.items()} for record in works_dict]\n",
        "except Exception as e:\n",
        "    print(f\"An error occurred while converting works DataFrame to a dictionary: {e}\")"
      ]
    },
    {
      "cell_type": "code",
      "execution_count": 86,
      "metadata": {},
      "outputs": [
        {
          "name": "stdout",
          "output_type": "stream",
          "text": [
            "The works.csv file has 5 rows and BOAT has generated license/attribution\n",
            "statements for 5 works (in various formats). If these numbers do not match, it\n",
            "is probably because one or more of your works does not have an IP status value\n",
            "that matches a value in the ipstatements.csv file.\n"
          ]
        }
      ],
      "source": [
        "# Report number of works and statements.\n",
        "try:\n",
        "    works_input = pd.read_csv('works.csv')\n",
        "    works_generated = len(works_dict)\n",
        "    formats_unique = len(works['Format'].unique())\n",
        "    works_generated_unique = round(works_generated / formats_unique)\n",
        "    output = f\"The works.csv file has {works_input.shape[0]} rows and BOAT has generated license/attribution statements for {works_generated_unique} works (in various formats). If these numbers do not match, it is probably because one or more of your works does not have an IP status value that matches a value in the ipstatements.csv file.\"\n",
        "    wrapped_output = textwrap.fill(output, width=80)\n",
        "    print(wrapped_output)\n",
        "except FileNotFoundError:\n",
        "    print(\"Error calculating how many works were supplied and how many statements were generated by BOAT.\")"
      ]
    },
    {
      "cell_type": "code",
      "execution_count": 87,
      "metadata": {
        "trusted": true
      },
      "outputs": [],
      "source": [
        "# Use template to format data.\n",
        "try:\n",
        "    template = './template.html'\n",
        "    env = Environment(loader=FileSystemLoader(os.path.dirname(template)), trim_blocks=True, lstrip_blocks=True)\n",
        "    template_obj = env.get_template(os.path.basename(template))\n",
        "    content = template_obj.render(works=works_dict)\n",
        "except Exception as e:\n",
        "    print(f\"An error occurred while rendering the template: {e}\")"
      ]
    },
    {
      "cell_type": "code",
      "execution_count": 88,
      "metadata": {
        "trusted": true
      },
      "outputs": [
        {
          "data": {
            "text/html": [
              "<!DOCTYPE html>\n",
              "<html lang=\"en\">\n",
              "<head>\n",
              "    <meta charset=\"UTF-8\">\n",
              "    <meta name=\"viewport\" content=\"width=device-width, initial-scale=1.0\">\n",
              "    <title>Jupyter BOAT Output</title>\n",
              "</head>\n",
              "<body>\n",
              "    <h1>Jupyter BOAT Output</h1>\n",
              "    <p>Here are license/attribution statatements generated by Jupyter BOAT for the data in the works.csv file. Learn more in the README.md file in this notebook. If you don't see what you expect below, check the data in works.csv, the IP/license statements in ipstatements.csv, and/or the output formats in template.html.</p>\n",
              "    <p>Get the statements in different formats: <a href=\"#HTML\">HTML</a> | <a href=\"#MD\">Markdown</a> | <a href=\"#TXTwURLs\">Plain Text (with URLs)</a> | <a href=\"#TXT\">Plain Text</a></p>\n",
              "    <ol>\n",
              "        <li>&ldquo;<a href=\"https://www.thegreats.co/thegreats/public/artworks/boats-in-the-sea\">Boats In The Sea</a>&rdquo; &copy; 2021 by <a href=\"https://www.thegreats.co/thegreats/public/artists/joshua-rush\">Joshua Rush</a> is licensed via <a href=\"https://creativecommons.org/licenses/by-sa/4.0/\">CC BY-SA 4.0</a>.</li>\n",
              "        <li>&ldquo;<a href=\"https://flic.kr/p/dbFp8p\">Boats for hire, Versailles</a>&rdquo; (2012) by <a href=\"https://www.flickr.com/photos/mustangjoe/\">Mustang Joe</a> is dedicated to the public domain via <a href=\"https://creativecommons.org/publicdomain/zero/1.0/\">CC0</a>.</li>\n",
              "        <li>&ldquo;<a href=\"https://www.flickr.com/photos/ixmati/12860756624/\">Cat <3</a>&rdquo; &copy; 2014 by <a href=\"http://xolotl.org/\">Nate Angell</a>, here slightly cropped, is licensed via <a href=\"https://creativecommons.org/licenses/by/2.0/\">CC BY 2.0</a>.</li>\n",
              "        <li>&ldquo;<a href=\"https://lumiere-a.akamaihd.net/v1/images/6_0954a229.jpeg\">Character Model Sheet (1950s)</a>&rdquo; &copy; 1950 by <a href=\"https://www.imdb.com/name/nm0649603/\">Tom Oreb</a> is copyrighted with all rights reserved.</li>\n",
              "        <li>&ldquo;<a href=\"https://archive.org/details/BSGMS143/page/n162/mode/1up\">Marginalia from page 162 of the Pontifical of Guillaume Durand</a>&rdquo; circa 1367 by Maître de Pierre de Saint-Martial, detail, has no known copyright and considered to be in the public domain.</li>\n",
              "    </ol>\n",
              "    <h2 id=\"HTML\">HTML</h2>\n",
              "    <p>Click in the field below, select all, and copy the BOAT output to use in HTML contexts. Note that all output may not be visible without scrolling, so be sure to select all before copying.</p>\n",
              "    <textarea style=\"height: 200px; width:100%;\">&ldquo;<a href=\"https://www.thegreats.co/thegreats/public/artworks/boats-in-the-sea\">Boats In The Sea</a>&rdquo; &copy; 2021 by <a href=\"https://www.thegreats.co/thegreats/public/artists/joshua-rush\">Joshua Rush</a> is licensed via <a href=\"https://creativecommons.org/licenses/by-sa/4.0/\">CC BY-SA 4.0</a>.\n",
              "&ldquo;<a href=\"https://flic.kr/p/dbFp8p\">Boats for hire, Versailles</a>&rdquo; (2012) by <a href=\"https://www.flickr.com/photos/mustangjoe/\">Mustang Joe</a> is dedicated to the public domain via <a href=\"https://creativecommons.org/publicdomain/zero/1.0/\">CC0</a>.\n",
              "&ldquo;<a href=\"https://www.flickr.com/photos/ixmati/12860756624/\">Cat <3</a>&rdquo; &copy; 2014 by <a href=\"http://xolotl.org/\">Nate Angell</a>, here slightly cropped, is licensed via <a href=\"https://creativecommons.org/licenses/by/2.0/\">CC BY 2.0</a>.\n",
              "&ldquo;<a href=\"https://lumiere-a.akamaihd.net/v1/images/6_0954a229.jpeg\">Character Model Sheet (1950s)</a>&rdquo; &copy; 1950 by <a href=\"https://www.imdb.com/name/nm0649603/\">Tom Oreb</a> is copyrighted with all rights reserved.\n",
              "&ldquo;<a href=\"https://archive.org/details/BSGMS143/page/n162/mode/1up\">Marginalia from page 162 of the Pontifical of Guillaume Durand</a>&rdquo; circa 1367 by Maître de Pierre de Saint-Martial, detail, has no known copyright and considered to be in the public domain.</textarea>\n",
              "    <h2 id=\"MD\">Markdown</h2>\n",
              "    <p>Click in the field below, select all, and copy the BOAT output to use in markdown contexts. Note that all output may not be visible without scrolling, so be sure to select all before copying.</p>\n",
              "    <textarea style=\"height: 200px; width:100%;\">&ldquo;[Boats In The Sea](https://www.thegreats.co/thegreats/public/artworks/boats-in-the-sea)&rdquo; &copy; 2021 by [Joshua Rush](https://www.thegreats.co/thegreats/public/artists/joshua-rush) is licensed via [CC BY-SA 4.0](https://creativecommons.org/licenses/by-sa/4.0/).\n",
              "&ldquo;[Boats for hire, Versailles](https://flic.kr/p/dbFp8p)&rdquo; (2012) by [Mustang Joe](https://www.flickr.com/photos/mustangjoe/) is dedicated to the public domain via [CC0](https://creativecommons.org/publicdomain/zero/1.0/).\n",
              "&ldquo;[Cat <3](https://www.flickr.com/photos/ixmati/12860756624/)&rdquo; &copy; 2014 by [Nate Angell](http://xolotl.org/), here slightly cropped, is licensed via [CC BY 2.0](https://creativecommons.org/licenses/by/2.0/).\n",
              "&ldquo;[Character Model Sheet (1950s)](https://lumiere-a.akamaihd.net/v1/images/6_0954a229.jpeg)&rdquo; &copy; 1950 by [Tom Oreb](https://www.imdb.com/name/nm0649603/) is copyrighted with all rights reserved.\n",
              "&ldquo;[Marginalia from page 162 of the Pontifical of Guillaume Durand](https://archive.org/details/BSGMS143/page/n162/mode/1up)&rdquo; circa 1367 by Maître de Pierre de Saint-Martial, detail, has no known copyright and considered to be in the public domain.</textarea>\n",
              "    <h2 id=\"TXTwURLs\">Plain Text (with URLs)</h2>\n",
              "    <p>Click in the field below, select all, and copy the BOAT output to use in plain text contexts with URLs in parentheses. Note that all output may not be visible without scrolling, so be sure to select all before copying.</p>\n",
              "    <textarea style=\"height: 200px; width:100%;\">&ldquo;Boats In The Sea&rdquo; (https://www.thegreats.co/thegreats/public/artworks/boats-in-the-sea) &copy; 2021 by Joshua Rush (https://www.thegreats.co/thegreats/public/artists/joshua-rush) is licensed via CC BY-SA 4.0 (https://creativecommons.org/licenses/by-sa/4.0/).\n",
              "&ldquo;Boats for hire, Versailles&rdquo; (https://flic.kr/p/dbFp8p) (2012) by Mustang Joe (https://www.flickr.com/photos/mustangjoe/) is dedicated to the public domain via CC0 (https://creativecommons.org/publicdomain/zero/1.0/).\n",
              "&ldquo;Cat <3&rdquo; (https://www.flickr.com/photos/ixmati/12860756624/) &copy; 2014 by Nate Angell (http://xolotl.org/), here slightly cropped, is licensed via CC BY 2.0 (https://creativecommons.org/licenses/by/2.0/).\n",
              "&ldquo;Character Model Sheet (1950s)&rdquo; (https://lumiere-a.akamaihd.net/v1/images/6_0954a229.jpeg) &copy; 1950 by Tom Oreb (https://www.imdb.com/name/nm0649603/) is copyrighted with all rights reserved.\n",
              "&ldquo;Marginalia from page 162 of the Pontifical of Guillaume Durand&rdquo; (https://archive.org/details/BSGMS143/page/n162/mode/1up) circa 1367 by Maître de Pierre de Saint-Martial, detail, has no known copyright and considered to be in the public domain.</textarea>\n",
              "    <h2 id=\"TXT\">Plain Text (without URLs)</h2>\n",
              "    <p>Click in the field below, select all, and copy the BOAT output to use in plain text contexts without URLs. Note that all output may not be visible without scrolling, so be sure to select all before copying.</p>\n",
              "    <textarea style=\"height: 200px; width:100%;\">&ldquo;Boats In The Sea&rdquo; &copy; 2021 by Joshua Rush is licensed via CC BY-SA 4.0.\n",
              "&ldquo;Boats for hire, Versailles&rdquo; (2012) by Mustang Joe is dedicated to the public domain via CC0.\n",
              "&ldquo;Cat <3&rdquo; &copy; 2014 by Nate Angell, here slightly cropped, is licensed via CC BY 2.0.\n",
              "&ldquo;Character Model Sheet (1950s)&rdquo; &copy; 1950 by Tom Oreb is copyrighted with all rights reserved.\n",
              "&ldquo;Marginalia from page 162 of the Pontifical of Guillaume Durand&rdquo; circa 1367 by Maître de Pierre de Saint-Martial, detail, has no known copyright and considered to be in the public domain.</textarea>\n",
              "</body>\n",
              "</html>"
            ],
            "text/plain": [
              "<IPython.core.display.HTML object>"
            ]
          },
          "metadata": {},
          "output_type": "display_data"
        }
      ],
      "source": [
        "# Display output below.\n",
        "try:\n",
        "    display(HTML(content))\n",
        "except Exception as e:\n",
        "    print(f\"An error occurred while displaying the HTML content: {e}\")"
      ]
    }
  ],
  "metadata": {
    "kernelspec": {
      "display_name": "Python 3",
      "language": "python",
      "name": "python3"
    },
    "language_info": {
      "codemirror_mode": {
        "name": "ipython",
        "version": 3
      },
      "file_extension": ".py",
      "mimetype": "text/x-python",
      "name": "python",
      "nbconvert_exporter": "python",
      "pygments_lexer": "ipython3",
      "version": "3.9.6"
    }
  },
  "nbformat": 4,
  "nbformat_minor": 4
}
